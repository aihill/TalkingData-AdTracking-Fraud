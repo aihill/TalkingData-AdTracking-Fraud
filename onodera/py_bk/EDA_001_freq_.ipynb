{
 "cells": [
  {
   "cell_type": "code",
   "execution_count": 1,
   "metadata": {
    "collapsed": true
   },
   "outputs": [],
   "source": [
    "import pandas as pd\n",
    "from glob import glob\n",
    "import utils"
   ]
  },
  {
   "cell_type": "code",
   "execution_count": 2,
   "metadata": {},
   "outputs": [
    {
     "data": {
      "text/plain": [
       "['../input/test.csv.zip',\n",
       " '../input/sample_submission.csv.zip',\n",
       " '../input/train.csv.zip',\n",
       " '../input/train_sample.csv.zip']"
      ]
     },
     "execution_count": 2,
     "metadata": {},
     "output_type": "execute_result"
    }
   ],
   "source": [
    "glob('../input/*')"
   ]
  },
  {
   "cell_type": "code",
   "execution_count": 3,
   "metadata": {},
   "outputs": [
    {
     "name": "stderr",
     "output_type": "stream",
     "text": [
      "100%|██████████| 10/10 [00:59<00:00,  5.93s/it]\n",
      "100%|██████████| 10/10 [00:06<00:00,  1.52it/s]\n"
     ]
    }
   ],
   "source": [
    "train = utils.read_pickles('../data/train').sort_values('click_time')\n",
    "test = utils.read_pickles('../data/test').sort_values('click_time')"
   ]
  },
  {
   "cell_type": "code",
   "execution_count": 4,
   "metadata": {},
   "outputs": [
    {
     "name": "stdout",
     "output_type": "stream",
     "text": [
      "<class 'pandas.core.frame.DataFrame'>\n",
      "Int64Index: 184903890 entries, 0 to 184903889\n",
      "Data columns (total 8 columns):\n",
      "ip                 uint32\n",
      "app                uint16\n",
      "device             uint16\n",
      "os                 uint16\n",
      "channel            uint16\n",
      "click_time         datetime64[ns]\n",
      "attributed_time    datetime64[ns]\n",
      "is_attributed      uint8\n",
      "dtypes: datetime64[ns](2), uint16(4), uint32(1), uint8(1)\n",
      "memory usage: 6.4 GB\n"
     ]
    }
   ],
   "source": [
    "train.info()"
   ]
  },
  {
   "cell_type": "code",
   "execution_count": 5,
   "metadata": {},
   "outputs": [
    {
     "name": "stdout",
     "output_type": "stream",
     "text": [
      "<class 'pandas.core.frame.DataFrame'>\n",
      "Int64Index: 18790469 entries, 0 to 18790459\n",
      "Data columns (total 7 columns):\n",
      "click_id      int64\n",
      "ip            uint32\n",
      "app           uint16\n",
      "device        uint16\n",
      "os            uint16\n",
      "channel       uint16\n",
      "click_time    datetime64[ns]\n",
      "dtypes: datetime64[ns](1), int64(1), uint16(4), uint32(1)\n",
      "memory usage: 645.1 MB\n"
     ]
    }
   ],
   "source": [
    "test.info()"
   ]
  },
  {
   "cell_type": "markdown",
   "metadata": {},
   "source": [
    "# IP"
   ]
  },
  {
   "cell_type": "code",
   "execution_count": 6,
   "metadata": {},
   "outputs": [
    {
     "data": {
      "text/plain": [
       "((277396,), (93936,))"
      ]
     },
     "execution_count": 6,
     "metadata": {},
     "output_type": "execute_result"
    }
   ],
   "source": [
    "train.ip.unique().shape, test.ip.unique().shape"
   ]
  },
  {
   "cell_type": "markdown",
   "metadata": {},
   "source": [
    "# app"
   ]
  },
  {
   "cell_type": "code",
   "execution_count": 7,
   "metadata": {},
   "outputs": [
    {
     "data": {
      "text/plain": [
       "((706,), (417,))"
      ]
     },
     "execution_count": 7,
     "metadata": {},
     "output_type": "execute_result"
    }
   ],
   "source": [
    "train.app.unique().shape, test.app.unique().shape"
   ]
  },
  {
   "cell_type": "markdown",
   "metadata": {},
   "source": [
    "# device"
   ]
  },
  {
   "cell_type": "code",
   "execution_count": 8,
   "metadata": {},
   "outputs": [
    {
     "data": {
      "text/plain": [
       "((3475,), (1985,))"
      ]
     },
     "execution_count": 8,
     "metadata": {},
     "output_type": "execute_result"
    }
   ],
   "source": [
    "train.device.unique().shape, test.device.unique().shape"
   ]
  },
  {
   "cell_type": "markdown",
   "metadata": {},
   "source": [
    "# os"
   ]
  },
  {
   "cell_type": "code",
   "execution_count": 9,
   "metadata": {},
   "outputs": [
    {
     "data": {
      "text/plain": [
       "((800,), (395,))"
      ]
     },
     "execution_count": 9,
     "metadata": {},
     "output_type": "execute_result"
    }
   ],
   "source": [
    "train.os.unique().shape, test.os.unique().shape"
   ]
  },
  {
   "cell_type": "markdown",
   "metadata": {},
   "source": [
    "# channel"
   ]
  },
  {
   "cell_type": "code",
   "execution_count": 10,
   "metadata": {},
   "outputs": [
    {
     "data": {
      "text/plain": [
       "((202,), (178,))"
      ]
     },
     "execution_count": 10,
     "metadata": {},
     "output_type": "execute_result"
    }
   ],
   "source": [
    "train.channel.unique().shape, test.channel.unique().shape"
   ]
  },
  {
   "cell_type": "markdown",
   "metadata": {},
   "source": [
    "# click_time"
   ]
  },
  {
   "cell_type": "code",
   "execution_count": 11,
   "metadata": {},
   "outputs": [
    {
     "data": {
      "text/plain": [
       "(Timestamp('2017-11-06 14:32:21'),\n",
       " Timestamp('2017-11-09 16:00:00'),\n",
       " Timestamp('2017-11-10 04:00:00'),\n",
       " Timestamp('2017-11-10 15:00:00'))"
      ]
     },
     "execution_count": 11,
     "metadata": {},
     "output_type": "execute_result"
    }
   ],
   "source": [
    "train.click_time.min(), train.click_time.max(), test.click_time.min(), test.click_time.max()"
   ]
  },
  {
   "cell_type": "markdown",
   "metadata": {},
   "source": [
    "# all test values in train?"
   ]
  },
  {
   "cell_type": "code",
   "execution_count": 18,
   "metadata": {},
   "outputs": [
    {
     "name": "stdout",
     "output_type": "stream",
     "text": [
      "(1527103, 7)\n"
     ]
    },
    {
     "data": {
      "text/plain": [
       "90850     20458\n",
       "25897     12827\n",
       "4916       3917\n",
       "32379      3659\n",
       "32350      3615\n",
       "32443      3205\n",
       "87882      2916\n",
       "63440      2347\n",
       "64784      2239\n",
       "63332      2191\n",
       "63308      2146\n",
       "14497      2095\n",
       "86410      2034\n",
       "63276      1895\n",
       "103962     1879\n",
       "64811      1870\n",
       "57268      1815\n",
       "63214      1781\n",
       "31473      1778\n",
       "36367      1685\n",
       "94066      1674\n",
       "100886     1670\n",
       "36646      1653\n",
       "22273      1624\n",
       "31402      1593\n",
       "47851      1554\n",
       "101952     1530\n",
       "31503      1529\n",
       "28345      1520\n",
       "63358      1506\n",
       "          ...  \n",
       "100985        1\n",
       "10818         1\n",
       "89709         1\n",
       "59608         1\n",
       "66150         1\n",
       "61016         1\n",
       "52828         1\n",
       "67173         1\n",
       "22734         1\n",
       "106102        1\n",
       "2244          1\n",
       "12864         1\n",
       "31305         1\n",
       "10432         1\n",
       "35415         1\n",
       "78432         1\n",
       "84591         1\n",
       "54876         1\n",
       "119420        1\n",
       "121469        1\n",
       "115326        1\n",
       "1606          1\n",
       "17998         1\n",
       "40533         1\n",
       "54494         1\n",
       "63064         1\n",
       "50396         1\n",
       "61019         1\n",
       "60633         1\n",
       "8188          1\n",
       "Name: ip, Length: 55772, dtype: int64"
      ]
     },
     "execution_count": 18,
     "metadata": {},
     "output_type": "execute_result"
    }
   ],
   "source": [
    "c = 'ip'\n",
    "print( test[~test[c].isin(train[c].unique())].shape )\n",
    "test[~test[c].isin(train[c].unique())][c].value_counts()"
   ]
  },
  {
   "cell_type": "code",
   "execution_count": 19,
   "metadata": {},
   "outputs": [
    {
     "name": "stdout",
     "output_type": "stream",
     "text": [
      "(4436, 7)\n"
     ]
    },
    {
     "data": {
      "text/plain": [
       "63     3967\n",
       "113     142\n",
       "129     104\n",
       "147      88\n",
       "131      83\n",
       "178      16\n",
       "439       8\n",
       "274       7\n",
       "369       3\n",
       "454       2\n",
       "430       2\n",
       "157       2\n",
       "449       1\n",
       "456       1\n",
       "464       1\n",
       "511       1\n",
       "465       1\n",
       "513       1\n",
       "459       1\n",
       "374       1\n",
       "426       1\n",
       "462       1\n",
       "506       1\n",
       "416       1\n",
       "Name: app, dtype: int64"
      ]
     },
     "execution_count": 19,
     "metadata": {},
     "output_type": "execute_result"
    }
   ],
   "source": [
    "c = 'app'\n",
    "print( test[~test[c].isin(train[c].unique())].shape )\n",
    "test[~test[c].isin(train[c].unique())][c].value_counts()"
   ]
  },
  {
   "cell_type": "code",
   "execution_count": 20,
   "metadata": {},
   "outputs": [
    {
     "name": "stdout",
     "output_type": "stream",
     "text": [
      "(77196, 7)\n"
     ]
    },
    {
     "data": {
      "text/plain": [
       "3       76117\n",
       "91        571\n",
       "618        13\n",
       "2749       11\n",
       "1687        9\n",
       "1938        8\n",
       "1110        8\n",
       "2578        7\n",
       "2632        5\n",
       "2419        5\n",
       "1892        4\n",
       "484         4\n",
       "1613        4\n",
       "2634        4\n",
       "1266        4\n",
       "2744        4\n",
       "2530        4\n",
       "1220        4\n",
       "3011        4\n",
       "478         4\n",
       "1566        4\n",
       "1886        4\n",
       "1462        3\n",
       "2103        3\n",
       "1370        3\n",
       "1589        3\n",
       "1138        3\n",
       "2454        3\n",
       "2467        3\n",
       "2845        3\n",
       "        ...  \n",
       "2589        1\n",
       "691         1\n",
       "2270        1\n",
       "2866        1\n",
       "2528        1\n",
       "1888        1\n",
       "1056        1\n",
       "2785        1\n",
       "2657        1\n",
       "1203        1\n",
       "2465        1\n",
       "1375        1\n",
       "2590        1\n",
       "2398        1\n",
       "1715        1\n",
       "2014        1\n",
       "2868        1\n",
       "2229        1\n",
       "2677        1\n",
       "959         1\n",
       "2527        1\n",
       "2484        1\n",
       "1949        1\n",
       "1373        1\n",
       "2908        1\n",
       "2332        1\n",
       "2909        1\n",
       "2612        1\n",
       "2781        1\n",
       "2369        1\n",
       "Name: device, Length: 324, dtype: int64"
      ]
     },
     "execution_count": 20,
     "metadata": {},
     "output_type": "execute_result"
    }
   ],
   "source": [
    "c = 'device'\n",
    "print( test[~test[c].isin(train[c].unique())].shape )\n",
    "test[~test[c].isin(train[c].unique())][c].value_counts()"
   ]
  },
  {
   "cell_type": "code",
   "execution_count": 21,
   "metadata": {},
   "outputs": [
    {
     "name": "stdout",
     "output_type": "stream",
     "text": [
      "(128743, 7)\n"
     ]
    },
    {
     "data": {
      "text/plain": [
       "33     84204\n",
       "51     44413\n",
       "247       21\n",
       "381        4\n",
       "473        4\n",
       "481        4\n",
       "275        4\n",
       "82         4\n",
       "526        4\n",
       "333        4\n",
       "266        4\n",
       "582        4\n",
       "450        4\n",
       "386        4\n",
       "502        4\n",
       "258        3\n",
       "467        3\n",
       "344        3\n",
       "320        3\n",
       "419        3\n",
       "448        2\n",
       "345        2\n",
       "524        2\n",
       "556        2\n",
       "528        2\n",
       "546        2\n",
       "538        1\n",
       "454        1\n",
       "490        1\n",
       "521        1\n",
       "428        1\n",
       "516        1\n",
       "581        1\n",
       "332        1\n",
       "388        1\n",
       "515        1\n",
       "492        1\n",
       "182        1\n",
       "449        1\n",
       "586        1\n",
       "588        1\n",
       "460        1\n",
       "218        1\n",
       "425        1\n",
       "589        1\n",
       "210        1\n",
       "354        1\n",
       "415        1\n",
       "604        1\n",
       "532        1\n",
       "598        1\n",
       "348        1\n",
       "472        1\n",
       "600        1\n",
       "220        1\n",
       "595        1\n",
       "Name: os, dtype: int64"
      ]
     },
     "execution_count": 21,
     "metadata": {},
     "output_type": "execute_result"
    }
   ],
   "source": [
    "c = 'os'\n",
    "print( test[~test[c].isin(train[c].unique())].shape )\n",
    "test[~test[c].isin(train[c].unique())][c].value_counts()"
   ]
  },
  {
   "cell_type": "code",
   "execution_count": 22,
   "metadata": {},
   "outputs": [
    {
     "name": "stdout",
     "output_type": "stream",
     "text": [
      "(0, 7)\n"
     ]
    },
    {
     "data": {
      "text/plain": [
       "Series([], Name: channel, dtype: int64)"
      ]
     },
     "execution_count": 22,
     "metadata": {},
     "output_type": "execute_result"
    }
   ],
   "source": [
    "c = 'channel'\n",
    "print( test[~test[c].isin(train[c].unique())].shape )\n",
    "test[~test[c].isin(train[c].unique())][c].value_counts()"
   ]
  },
  {
   "cell_type": "code",
   "execution_count": 4,
   "metadata": {},
   "outputs": [
    {
     "data": {
      "text/plain": [
       "280    15065927\n",
       "245     8873025\n",
       "107     8457471\n",
       "477     7188340\n",
       "134     5924250\n",
       "259     5787004\n",
       "153     5537977\n",
       "265     5446388\n",
       "178     5271408\n",
       "121     4692438\n",
       "205     4359180\n",
       "145     3583945\n",
       "442     3574611\n",
       "459     3477150\n",
       "379     3402636\n",
       "439     2901762\n",
       "489     2711240\n",
       "128     2703163\n",
       "135     2663913\n",
       "466     2655396\n",
       "237     2632794\n",
       "480     2618441\n",
       "469     2588380\n",
       "140     2562964\n",
       "122     2526161\n",
       "219     2349454\n",
       "137     2302316\n",
       "232     2275338\n",
       "435     2192870\n",
       "101     2147174\n",
       "         ...   \n",
       "223         118\n",
       "225          96\n",
       "233          61\n",
       "14           22\n",
       "471          20\n",
       "458          16\n",
       "251          14\n",
       "248          14\n",
       "256          13\n",
       "169          13\n",
       "162          12\n",
       "238           9\n",
       "29            6\n",
       "473           5\n",
       "475           3\n",
       "142           2\n",
       "476           2\n",
       "165           2\n",
       "149           2\n",
       "470           1\n",
       "146           1\n",
       "434           1\n",
       "422           1\n",
       "394           1\n",
       "354           1\n",
       "227           1\n",
       "221           1\n",
       "217           1\n",
       "172           1\n",
       "500           1\n",
       "Name: channel, Length: 202, dtype: int64"
      ]
     },
     "execution_count": 4,
     "metadata": {},
     "output_type": "execute_result"
    }
   ],
   "source": [
    "train.channel.value_counts()"
   ]
  },
  {
   "cell_type": "code",
   "execution_count": null,
   "metadata": {
    "collapsed": true
   },
   "outputs": [],
   "source": []
  }
 ],
 "metadata": {
  "kernelspec": {
   "display_name": "Python 3",
   "language": "python",
   "name": "python3"
  },
  "language_info": {
   "codemirror_mode": {
    "name": "ipython",
    "version": 3
   },
   "file_extension": ".py",
   "mimetype": "text/x-python",
   "name": "python",
   "nbconvert_exporter": "python",
   "pygments_lexer": "ipython3",
   "version": "3.6.3"
  }
 },
 "nbformat": 4,
 "nbformat_minor": 2
}
